{
  "nbformat": 4,
  "nbformat_minor": 0,
  "metadata": {
    "colab": {
      "provenance": [],
      "authorship_tag": "ABX9TyNWtyenW1axZ77N+uwcVDoJ",
      "include_colab_link": true
    },
    "kernelspec": {
      "name": "python3",
      "display_name": "Python 3"
    },
    "language_info": {
      "name": "python"
    }
  },
  "cells": [
    {
      "cell_type": "markdown",
      "metadata": {
        "id": "view-in-github",
        "colab_type": "text"
      },
      "source": [
        "<a href=\"https://colab.research.google.com/github/Sruthi23Yaradi/MyInternshipProjects/blob/main/Unit_Converter.ipynb\" target=\"_parent\"><img src=\"https://colab.research.google.com/assets/colab-badge.svg\" alt=\"Open In Colab\"/></a>"
      ]
    },
    {
      "cell_type": "code",
      "execution_count": 1,
      "metadata": {
        "id": "gn7VfOhc3suk"
      },
      "outputs": [],
      "source": [
        "#UNIT CONVERTER USING PYTHON"
      ]
    },
    {
      "cell_type": "code",
      "source": [
        "print(\"-----UNIT CONVERTER-----\")\n",
        "print()\n",
        "conversions= [(1,'Meters','feet'),\n",
        "              (2,'Feet','meters'),\n",
        "              (3,'Celsius','Farenheit'),\n",
        "              (4,'Farenheit','Celsius'),\n",
        "              (5,'Kilograms','Pounds'),\n",
        "              (6,'Pounds','Kilograms'),\n",
        "              ]\n",
        "print('CONVERSIONS AVAILABLE\\n')\n",
        "for con_number, from_unit, to_unit in conversions:\n",
        "  print(f'{con_number}. {from_unit} to {to_unit}')\n",
        "\n",
        "print()\n",
        "conversion= int(input('Select the index of the unit converter from conversions available(1 - 6)  '))\n",
        "try:\n",
        "  con_index= conversion-1\n",
        "  con_number, from_unit, to_unit = conversions[con_index]\n",
        "  from_value= float(input(f'Enter the value to be converted from {from_unit} to {to_unit}   '))\n",
        "\n",
        "  if con_number == 1:\n",
        "    to_value = from_value * 3.28084\n",
        "    print(f'{from_value} {from_unit} are equal to {to_value} {to_unit}')\n",
        "  elif con_number == 2:\n",
        "    to_value = from_value * 0.3048\n",
        "    print(f'{from_value} {from_unit} are equal to {to_value} {to_unit}')\n",
        "  elif con_number == 3:\n",
        "    to_value = from_value * 1.8 +32\n",
        "    print(f'{from_value} {from_unit} are equal to {to_value} {to_unit}')\n",
        "  elif con_number == 4:\n",
        "    to_value = (from_value - 32)/1.8\n",
        "    print(f'{from_value} {from_unit} are equal to {to_value} {to_unit}')\n",
        "  elif con_number == 5:\n",
        "    to_value = from_value * 2.20462\n",
        "    print(f'{from_value} {from_unit} are equal to {to_value} {to_unit}')\n",
        "  elif con_number == 6:\n",
        "    to_value = from_value * 0.453592\n",
        "    print(f'{from_value} {from_unit} are equal to {to_value} {to_unit}')\n",
        "except:\n",
        "  print(\"Enter a valid index\")"
      ],
      "metadata": {
        "id": "yjNV_8Vz32xb",
        "colab": {
          "base_uri": "https://localhost:8080/"
        },
        "outputId": "16f7b583-e245-4242-ac2a-b8dc4405b687"
      },
      "execution_count": 13,
      "outputs": [
        {
          "output_type": "stream",
          "name": "stdout",
          "text": [
            "-----UNIT CONVERTER-----\n",
            "\n",
            "CONVERSIONS AVAILABLE\n",
            "\n",
            "1. Meters to feet\n",
            "2. Feet to meters\n",
            "3. Celsius to Farenheit\n",
            "4. Farenheit to Celsius\n",
            "5. Kilograms to Pounds\n",
            "6. Pounds to Kilograms\n",
            "\n",
            "Select the index of the unit converter from conversions available(1 - 6)  7\n",
            "Enter a valid index\n"
          ]
        }
      ]
    },
    {
      "cell_type": "code",
      "source": [],
      "metadata": {
        "id": "TManunbY4EdW"
      },
      "execution_count": null,
      "outputs": []
    }
  ]
}